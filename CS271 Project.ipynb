{
 "cells": [
  {
   "cell_type": "code",
   "execution_count": 1,
   "metadata": {},
   "outputs": [
    {
     "name": "stderr",
     "output_type": "stream",
     "text": [
      "Using TensorFlow backend.\n"
     ]
    },
    {
     "name": "stdout",
     "output_type": "stream",
     "text": [
      "STEPS PER EPOCH:  2972\n",
      "VALIDATION STEPS:  801\n",
      "2.3.1\n"
     ]
    }
   ],
   "source": [
    "import os, sys\n",
    "import numpy as np\n",
    "import matplotlib.pyplot as plt\n",
    "import mask_rcnn\n",
    "import mask_rcnn_utils\n",
    "import eye_segmentation\n",
    "import cv2\n",
    "from tqdm import tqdm\n",
    "\n",
    "import tensorflow as tf\n",
    "import keras\n",
    "print(keras.__version__)\n",
    "import keras.backend as K\n",
    "import keras.layers as KL\n",
    "import keras.engine as KE\n",
    "import keras.models as KM\n",
    "from tensorflow.keras.preprocessing.image import load_img, img_to_array"
   ]
  },
  {
   "cell_type": "code",
   "execution_count": null,
   "metadata": {},
   "outputs": [],
   "source": [
    "# segmentation dataset\n",
    "DATASET_DIR = '/home/naproxa/cs271proj/Semantic_Segmentation_Dataset' # replace with your path\n",
    "TRAIN_IMAGE_DIR = DATASET_DIR + '/train/images'\n",
    "TRAIN_LABELS_DIR = DATASET_DIR + '/train/labels'\n",
    "VAL_IMAGE_DIR = DATASET_DIR + '/validation/images'\n",
    "VAL_LABELS_DIR = DATASET_DIR + '/validation/labels'\n",
    "TEST_IMAGE_DIR = DATASET_DIR + '/test/images'\n",
    "\n",
    "print(len(os.listdir(TRAIN_IMAGE_DIR)))\n",
    "print(len(os.listdir(VAL_IMAGE_DIR)))\n",
    "\n",
    "# image_ids = next(os.walk(TEST_IMAGE_DIR))[2]\n",
    "# for image_id in image_ids:\n",
    "#     print(image_id[:image_id.index('.')])"
   ]
  },
  {
   "cell_type": "code",
   "execution_count": null,
   "metadata": {},
   "outputs": [],
   "source": [
    "assert (len(os.listdir(TRAIN_IMAGE_DIR)) == len(os.listdir(TRAIN_LABELS_DIR))) # 8916\n",
    "np.set_printoptions(threshold=sys.maxsize)\n",
    "\n",
    "images = sorted(os.listdir(TRAIN_IMAGE_DIR))\n",
    "labels = sorted(os.listdir(TRAIN_LABELS_DIR))\n",
    "print(len(images))\n",
    "\n",
    "# count = 0\n",
    "for i in range(len(images)):\n",
    "    print(labels[i])\n",
    "#     image = load_img(TRAIN_IMAGE_DIR+'/'+images[i])\n",
    "    \n",
    "    label = np.load(TRAIN_LABELS_DIR+'/'+labels[i])\n",
    "    print(label)\n",
    "#     plt.figure()\n",
    "#     plt.imshow(image)\n",
    "#     plt.savefig('/home/jjonathanmak/cs271proj/image1.png')\n",
    "#     plt.figure()\n",
    "    \n",
    "#     plt.imshow(image)\n",
    "#     plt.imshow(label, alpha=0.3)\n",
    "    \n",
    "#     plt.figure()\n",
    " \n",
    "#     plt.imshow(label)\n",
    "#     plt.savefig('/home/jjonathanmak/cs271proj/label1.png')\n",
    "    break\n",
    "#     count += 1\n",
    "#     if count == 3: break"
   ]
  },
  {
   "cell_type": "code",
   "execution_count": null,
   "metadata": {},
   "outputs": [],
   "source": [
    "def load_data(IMAGE_DIR, LABEL_DIR):\n",
    "\n",
    "    images = []\n",
    "    image_list = sorted(os.listdir(IMAGE_DIR))\n",
    "    if LABEL_DIR:\n",
    "        labels = []\n",
    "        label_list = sorted(os.listdir(LABEL_DIR))\n",
    "\n",
    "    for file in tqdm(range(len(image_list))):\n",
    "\n",
    "        image_path = IMAGE_DIR +'/'+image_list[i]\n",
    "        \n",
    "        # image is duplicated across channels, take 1st channel\n",
    "        img = img_to_array(load_img(image_path), dtype=np.uint8)\n",
    "         \n",
    "        images.append(img[:, :, 0])\n",
    "        \n",
    "        if LABEL_DIR:\n",
    "            label_path = LABEL_DIR +'/'+label_list[i]\n",
    "            label = np.load(label_path)\n",
    "            labels.append(label)\n",
    "\n",
    "    if LABEL_DIR:\n",
    "        return np.array(images), np.array(labels)\n",
    "    else:\n",
    "        return np.array(images)\n",
    "\n",
    "train_images, train_labels = load_data(TRAIN_IMAGE_DIR, TRAIN_LABELS_DIR)\n",
    "val_images, val_labels = load_data(VAL_IMAGE_DIR, VAL_LABELS_DIR)\n",
    "test_images = load_data(TEST_IMAGE_DIR, None)\n",
    "\n",
    "print('Train images: ', train_images.shape)\n",
    "print('Train labels: ', train_labels.shape)\n",
    "print('Val images: ', val_images.shape)\n",
    "print('Val labels: ', val_labels.shape)\n",
    "print('Test images: ', test_images.shape)"
   ]
  },
  {
   "cell_type": "code",
   "execution_count": null,
   "metadata": {},
   "outputs": [],
   "source": [
    "BATCH_SIZE = 8\n",
    "\n",
    "train_dataset = tf.data.Dataset.from_tensor_slices((train_images, train_labels)).batch(BATCH_SIZE)\n",
    "val_dataset = tf.data.Dataset.from_tensor_slices((val_images, val_labels)).batch(BATCH_SIZE)"
   ]
  },
  {
   "cell_type": "code",
   "execution_count": null,
   "metadata": {},
   "outputs": [],
   "source": [
    "# Train\n",
    "model = eye_segmentation.train_mrcnn(load_last=False)"
   ]
  },
  {
   "cell_type": "code",
   "execution_count": null,
   "metadata": {},
   "outputs": [],
   "source": []
  }
 ],
 "metadata": {
  "kernelspec": {
   "display_name": "Python 3",
   "language": "python",
   "name": "python3"
  },
  "language_info": {
   "codemirror_mode": {
    "name": "ipython",
    "version": 3
   },
   "file_extension": ".py",
   "mimetype": "text/x-python",
   "name": "python",
   "nbconvert_exporter": "python",
   "pygments_lexer": "ipython3",
   "version": "3.6.10"
  }
 },
 "nbformat": 4,
 "nbformat_minor": 2
}
